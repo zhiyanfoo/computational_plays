{
 "cells": [
  {
   "cell_type": "markdown",
   "metadata": {},
   "source": [
    "# Introduction to crunch-shake"
   ]
  },
  {
   "cell_type": "markdown",
   "metadata": {},
   "source": [
    "crunch-shake is a library aimed to help analyze plays/scripts for gender disparities. Given a script, first you have to parse it to the format specified by the library. Then you can do fun stuff like seeing what are the most common words that females or males used, run network analysis to see who are the most important characters, create a graph of plays and even run the [bechdel test](https://en.wikipedia.org/wiki/Bechdel_test).\n",
    "\n",
    "First lets take a look at the play we will be parsing, *Romeo and Juliet* by William Shakespeare. Ever wanted to know who was the more important of the romantic duo, Romeo or Juliet? (Hint, it does not dispell any notions that we live in a patriarchy.) I've taken the play from [MIT's website](http://shakespeare.mit.edu/romeo_juliet/full.html)."
   ]
  },
  {
   "cell_type": "code",
   "execution_count": 20,
   "metadata": {
    "collapsed": false
   },
   "outputs": [
    {
     "name": "stdout",
     "output_type": "stream",
     "text": [
      "<!DOCTYPE HTML PUBLIC \"-//W3C//DTD HTML 4.0 Transitional//EN\"\n",
      " \"http://www.w3.org/TR/REC-html40/loose.dtd\">\n",
      " <html>\n",
      " <head>\n",
      " <title>Romeo and Juliet: Entire Play\n",
      " </title>\n",
      " <meta http-equiv=\"Content-Type\" content=\"text/html; charset=iso-8859-1\">\n",
      " <LINK rel=\"stylesheet\" type=\"text/css\" media=\"screen\"\n",
      "       href=\"/shake.css\">\n",
      " </HEAD>\n"
     ]
    }
   ],
   "source": [
    "from utils import file_to_list\n",
    "\n",
    "romeo_juliet_raw = file_to_list(\"romeo_and_juliet_entire_play.html\")\n",
    "\n",
    "# Showing the beggining\n",
    "for line in romeo_juliet_raw[:10]:\n",
    "    print(line,end=\"\")\n"
   ]
  },
  {
   "cell_type": "markdown",
   "metadata": {},
   "source": [
    "So obviously there's some stuff here thats not really relevant to us; lets look at some stuff in the middle of the play"
   ]
  },
  {
   "cell_type": "code",
   "execution_count": 18,
   "metadata": {
    "collapsed": false
   },
   "outputs": [
    {
     "name": "stdout",
     "output_type": "stream",
     "text": [
      "<A NAME=speech81><b>ROMEO</b></a>\n",
      "<blockquote>\n",
      "<A NAME=2.4.177>And stay, good nurse, behind the abbey wall:</A><br>\n",
      "<A NAME=2.4.178>Within this hour my man shall be with thee</A><br>\n",
      "<A NAME=2.4.179>And bring thee cords made like a tackled stair;</A><br>\n",
      "<A NAME=2.4.180>Which to the high top-gallant of my joy</A><br>\n",
      "<A NAME=2.4.181>Must be my convoy in the secret night.</A><br>\n",
      "<A NAME=2.4.182>Farewell; be trusty, and I'll quit thy pains:</A><br>\n",
      "<A NAME=2.4.183>Farewell; commend me to thy mistress.</A><br>\n",
      "</blockquote>\n",
      "\n",
      "<A NAME=speech82><b>Nurse</b></a>\n",
      "<blockquote>\n",
      "<A NAME=2.4.184>Now God in heaven bless thee! Hark you, sir.</A><br>\n",
      "</blockquote>\n"
     ]
    }
   ],
   "source": [
    "# Showing the middle portion\n",
    "for line in romeo_juliet_raw[2992:3007]:\n",
    "    print(line,end=\"\")"
   ]
  },
  {
   "cell_type": "markdown",
   "metadata": {},
   "source": [
    "In additions to dialogue we also have to watch out for act and scene information. "
   ]
  },
  {
   "cell_type": "code",
   "execution_count": 23,
   "metadata": {
    "collapsed": false
   },
   "outputs": [
    {
     "name": "stdout",
     "output_type": "stream",
     "text": [
      "<H3>ACT III</h3>\n",
      "<h3>SCENE I. A public place.</h3>\n"
     ]
    }
   ],
   "source": [
    "for line in romeo_juliet_raw[3315:3317]:\n",
    "    print(line,end=\"\")"
   ]
  },
  {
   "cell_type": "markdown",
   "metadata": {},
   "source": [
    "As well as information regarding when characters enter and exit. These stage directions can happen between dialogues, or within a dialogue (indicating a character should enter/exit while another is speaking)."
   ]
  },
  {
   "cell_type": "code",
   "execution_count": 42,
   "metadata": {
    "collapsed": false
   },
   "outputs": [
    {
     "name": "stdout",
     "output_type": "stream",
     "text": [
      "<h3>SCENE I. A lane by the wall of Capulet's orchard.</h3>\n",
      "<p><blockquote>\n",
      "<i>Enter ROMEO</i>\n",
      "</blockquote>\n"
     ]
    }
   ],
   "source": [
    "# in between dialogue\n",
    "for line in romeo_juliet_raw[1778:1782]:\n",
    "    print(line,end=\"\")"
   ]
  },
  {
   "cell_type": "code",
   "execution_count": 31,
   "metadata": {
    "collapsed": false
   },
   "outputs": [
    {
     "name": "stdout",
     "output_type": "stream",
     "text": [
      "<A NAME=speech3><b>FRIAR LAURENCE</b></a>\n",
      "<blockquote>\n",
      "<A NAME=2.6.9>These violent delights have violent ends</A><br>\n",
      "<A NAME=2.6.10>And in their triumph die, like fire and powder,</A><br>\n",
      "<A NAME=2.6.11>Which as they kiss consume: the sweetest honey</A><br>\n",
      "<A NAME=2.6.12>Is loathsome in his own deliciousness</A><br>\n",
      "<A NAME=2.6.13>And in the taste confounds the appetite:</A><br>\n",
      "<A NAME=2.6.14>Therefore love moderately; long love doth so;</A><br>\n",
      "<A NAME=2.6.15>Too swift arrives as tardy as too slow.</A><br>\n",
      "<p><i>Enter JULIET</i></p>\n",
      "<A NAME=2.6.16>Here comes the lady: O, so light a foot</A><br>\n",
      "<A NAME=2.6.17>Will ne'er wear out the everlasting flint:</A><br>\n",
      "<A NAME=2.6.18>A lover may bestride the gossamer</A><br>\n",
      "<A NAME=2.6.19>That idles in the wanton summer air,</A><br>\n",
      "<A NAME=2.6.20>And yet not fall; so light is vanity.</A><br>\n",
      "</blockquote>\n"
     ]
    }
   ],
   "source": [
    "# within a dialogue\n",
    "for line in romeo_juliet_raw[3257:3273]:\n",
    "    print(line,end=\"\")"
   ]
  },
  {
   "cell_type": "code",
   "execution_count": null,
   "metadata": {
    "collapsed": true
   },
   "outputs": [],
   "source": []
  }
 ],
 "metadata": {
  "kernelspec": {
   "display_name": "Python 3",
   "language": "python",
   "name": "python3"
  },
  "language_info": {
   "codemirror_mode": {
    "name": "ipython",
    "version": 3
   },
   "file_extension": ".py",
   "mimetype": "text/x-python",
   "name": "python",
   "nbconvert_exporter": "python",
   "pygments_lexer": "ipython3",
   "version": "3.5.1"
  }
 },
 "nbformat": 4,
 "nbformat_minor": 1
}
