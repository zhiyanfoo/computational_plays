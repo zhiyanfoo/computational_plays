{
 "cells": [
  {
   "cell_type": "markdown",
   "metadata": {},
   "source": [
    "# Crunch-Shake\n"
   ]
  },
  {
   "cell_type": "markdown",
   "metadata": {},
   "source": [
    "## Table of Contents\n",
    "\n",
    "<strong>\n",
    "1. Introduction\n",
    "2. Preliminaries\n",
    "3. Parsing\n",
    "4. Processing\n",
    "</strong>"
   ]
  },
  {
   "cell_type": "markdown",
   "metadata": {},
   "source": [
    "## Introduction"
   ]
  },
  {
   "cell_type": "markdown",
   "metadata": {},
   "source": [
    "**crunch-shake** is a library aimed to help analyze plays/scripts for gender disparities. Given a script, first you have to parse it to the format specified by the library. Then you can do fun stuff like seeing what are the most common words that females or males used, run network analysis to see who are the most important characters, create a graph of plays and even run the [bechdel test](https://en.wikipedia.org/wiki/Bechdel_test)."
   ]
  },
  {
   "cell_type": "markdown",
   "metadata": {},
   "source": [
    "## Preliminaries\n",
    "\n",
    "First lets take a look at the play we will be parsing, *Romeo and Juliet* by William Shakespeare. Ever wanted to know who was the more important of the romantic duo, Romeo or Juliet? (Hint, it does not dispell any notions that we live in a patriarchy.) I've taken the play from [MIT's website](http://shakespeare.mit.edu/romeo_juliet/full.html)."
   ]
  },
  {
   "cell_type": "code",
   "execution_count": 1,
   "metadata": {
    "collapsed": false
   },
   "outputs": [
    {
     "name": "stdout",
     "output_type": "stream",
     "text": [
      "<!DOCTYPE HTML PUBLIC \"-//W3C//DTD HTML 4.0 Transitional//EN\"\n",
      " \"http://www.w3.org/TR/REC-html40/loose.dtd\">\n",
      " <html>\n",
      " <head>\n",
      " <title>Romeo and Juliet: Entire Play\n",
      " </title>\n",
      " <meta http-equiv=\"Content-Type\" content=\"text/html; charset=iso-8859-1\">\n",
      " <LINK rel=\"stylesheet\" type=\"text/css\" media=\"screen\"\n",
      "       href=\"/shake.css\">\n",
      " </HEAD>\n"
     ]
    }
   ],
   "source": [
    "from utils import file_to_list\n",
    "\n",
    "romeo_juliet_raw = file_to_list(\"plays/romeo_and_juliet_entire_play.html\")\n",
    "\n",
    "# Showing the beggining\n",
    "for line in romeo_juliet_raw[:10]:\n",
    "    print(line, end=\"\")"
   ]
  },
  {
   "cell_type": "markdown",
   "metadata": {},
   "source": [
    "So obviously there's some stuff here thats not really relevant to us; lets look at some stuff in the middle of the play"
   ]
  },
  {
   "cell_type": "code",
   "execution_count": 2,
   "metadata": {
    "collapsed": false
   },
   "outputs": [
    {
     "name": "stdout",
     "output_type": "stream",
     "text": [
      "<A NAME=speech81><b>ROMEO</b></a>\n",
      "<blockquote>\n",
      "<A NAME=2.4.177>And stay, good nurse, behind the abbey wall:</A><br>\n",
      "<A NAME=2.4.178>Within this hour my man shall be with thee</A><br>\n",
      "<A NAME=2.4.179>And bring thee cords made like a tackled stair;</A><br>\n",
      "<A NAME=2.4.180>Which to the high top-gallant of my joy</A><br>\n",
      "<A NAME=2.4.181>Must be my convoy in the secret night.</A><br>\n",
      "<A NAME=2.4.182>Farewell; be trusty, and I'll quit thy pains:</A><br>\n",
      "<A NAME=2.4.183>Farewell; commend me to thy mistress.</A><br>\n",
      "</blockquote>\n",
      "\n",
      "<A NAME=speech82><b>Nurse</b></a>\n",
      "<blockquote>\n",
      "<A NAME=2.4.184>Now God in heaven bless thee! Hark you, sir.</A><br>\n",
      "</blockquote>\n"
     ]
    }
   ],
   "source": [
    "# Showing the middle portion\n",
    "for line in romeo_juliet_raw[2992:3007]:\n",
    "    print(line, end=\"\")"
   ]
  },
  {
   "cell_type": "markdown",
   "metadata": {},
   "source": [
    "In additions to dialogue we also have to watch out for act and scene information. "
   ]
  },
  {
   "cell_type": "code",
   "execution_count": 3,
   "metadata": {
    "collapsed": false
   },
   "outputs": [
    {
     "name": "stdout",
     "output_type": "stream",
     "text": [
      "<H3>ACT III</h3>\n",
      "<h3>SCENE I. A public place.</h3>\n"
     ]
    }
   ],
   "source": [
    "for line in romeo_juliet_raw[3315:3317]:\n",
    "    print(line, end=\"\")"
   ]
  },
  {
   "cell_type": "markdown",
   "metadata": {},
   "source": [
    "As well as information regarding **when characters enter and exit**. These stage directions can happen between dialogues, or within a dialogue (indicating a character should enter/exit while another is speaking)."
   ]
  },
  {
   "cell_type": "code",
   "execution_count": 4,
   "metadata": {
    "collapsed": false
   },
   "outputs": [
    {
     "name": "stdout",
     "output_type": "stream",
     "text": [
      "<h3>SCENE I. A lane by the wall of Capulet's orchard.</h3>\n",
      "<p><blockquote>\n",
      "<i>Enter ROMEO</i>\n",
      "</blockquote>\n"
     ]
    }
   ],
   "source": [
    "# in between dialogue\n",
    "for line in romeo_juliet_raw[1778:1782]:\n",
    "    print(line, end=\"\")"
   ]
  },
  {
   "cell_type": "code",
   "execution_count": 5,
   "metadata": {
    "collapsed": false
   },
   "outputs": [
    {
     "name": "stdout",
     "output_type": "stream",
     "text": [
      "<A NAME=speech3><b>FRIAR LAURENCE</b></a>\n",
      "<blockquote>\n",
      "<A NAME=2.6.9>These violent delights have violent ends</A><br>\n",
      "<A NAME=2.6.10>And in their triumph die, like fire and powder,</A><br>\n",
      "<A NAME=2.6.11>Which as they kiss consume: the sweetest honey</A><br>\n",
      "<A NAME=2.6.12>Is loathsome in his own deliciousness</A><br>\n",
      "<A NAME=2.6.13>And in the taste confounds the appetite:</A><br>\n",
      "<A NAME=2.6.14>Therefore love moderately; long love doth so;</A><br>\n",
      "<A NAME=2.6.15>Too swift arrives as tardy as too slow.</A><br>\n",
      "<p><i>Enter JULIET</i></p>\n",
      "<A NAME=2.6.16>Here comes the lady: O, so light a foot</A><br>\n",
      "<A NAME=2.6.17>Will ne'er wear out the everlasting flint:</A><br>\n",
      "<A NAME=2.6.18>A lover may bestride the gossamer</A><br>\n",
      "<A NAME=2.6.19>That idles in the wanton summer air,</A><br>\n",
      "<A NAME=2.6.20>And yet not fall; so light is vanity.</A><br>\n",
      "</blockquote>\n"
     ]
    }
   ],
   "source": [
    "# within a dialogue\n",
    "for line in romeo_juliet_raw[3257:3273]:\n",
    "    print(line, end=\"\")"
   ]
  },
  {
   "cell_type": "markdown",
   "metadata": {},
   "source": [
    "So this the text I'm aiming to parse. Luckily [regular expressions](http://www.w3schools.com/jsref/jsref_obj_regexp.asp) are well suited to this task. For this particular play, I've prepared the matchers, found in mit_shakespeare_regex.py. Let's go ahead and try it out."
   ]
  },
  {
   "cell_type": "code",
   "execution_count": 6,
   "metadata": {
    "collapsed": false
   },
   "outputs": [
    {
     "name": "stdout",
     "output_type": "stream",
     "text": [
      "<A NAME=2.2.46>By any other name would smell as sweet;</A><br>\n",
      "\n"
     ]
    }
   ],
   "source": [
    "from mit_shakespeare_regex import matcher\n",
    "\n",
    "line1 = romeo_juliet_raw[1943]\n",
    "print(line1)"
   ]
  },
  {
   "cell_type": "code",
   "execution_count": 7,
   "metadata": {
    "collapsed": false
   },
   "outputs": [
    {
     "data": {
      "text/plain": [
       "<_sre.SRE_Match object; span=(0, 62), match='<A NAME=2.2.46>By any other name would smell as s>"
      ]
     },
     "execution_count": 7,
     "metadata": {},
     "output_type": "execute_result"
    }
   ],
   "source": [
    "# Since line 1 is a piece of dialogue, matcher.dialogue should return an object when it searches the line\n",
    "matcher.dialogue.search(line1)"
   ]
  },
  {
   "cell_type": "code",
   "execution_count": 8,
   "metadata": {
    "collapsed": true
   },
   "outputs": [],
   "source": [
    "# Since this line does not indicate which character is speaking, it should return None (so nothing)\n",
    "matcher.character.search(line1)"
   ]
  },
  {
   "cell_type": "code",
   "execution_count": 9,
   "metadata": {
    "collapsed": false
   },
   "outputs": [
    {
     "data": {
      "text/plain": [
       "<_sre.SRE_Match object; span=(0, 33), match='<A NAME=speech6><b>JULIET</b></a>'>"
      ]
     },
     "execution_count": 9,
     "metadata": {},
     "output_type": "execute_result"
    }
   ],
   "source": [
    "# A line that matcher.character will match\n",
    "line2 = romeo_juliet_raw[1935]\n",
    "matcher.character.search(line2)"
   ]
  },
  {
   "cell_type": "markdown",
   "metadata": {},
   "source": [
    "The last thing we need before we begin is a gender file specifying the gender of each character in the play. This has to be done by hand."
   ]
  },
  {
   "cell_type": "code",
   "execution_count": 10,
   "metadata": {
    "collapsed": false
   },
   "outputs": [
    {
     "name": "stdout",
     "output_type": "stream",
     "text": [
      "{'FIRST CITIZEN': 'M', 'JULIET': 'F', 'LADY CAPULET': 'F', 'SECOND CAPULET': 'M', 'SECOND SERVANT': 'M', 'THIRD MUSICIAN': 'M', 'PETER': 'M', 'PARIS': 'M', 'PAGE': 'M', 'MUSICIAN': 'M', 'SAMPSON': 'M', 'ROMEO': 'M', 'SECOND MUSICIAN': 'M', 'SERVANT': 'M', 'CAPULET': 'M', 'PRINCE': 'M', 'THIRD WATCHMAN': 'M', 'GREGORY': 'M', 'ABRAHAM': 'M', 'APOTHECARY': 'M', 'LADY MONTAGUE': 'F', 'FRIAR JOHN': 'M', 'TYBALT': 'M', 'BENVOLIO': 'M', 'BALTHASAR': 'M', 'CHORUS': 'N', 'FRIAR LAURENCE': 'M', 'FIRST MUSICIAN': 'M', 'MERCUTIO': 'M', 'FIRST WATCHMAN': 'M', 'SECOND WATCHMAN': 'M', 'NURSE': 'F', 'MONTAGUE': 'M', 'FIRST SERVANT': 'M'}\n"
     ]
    }
   ],
   "source": [
    "from utils import json_file_to_dict\n",
    "\n",
    "gender = json_file_to_dict(\"plays/romeo_and_juliet_entire_play_gender.json\")\n",
    "print(gender)"
   ]
  },
  {
   "cell_type": "markdown",
   "metadata": {},
   "source": [
    "## Parsing\n",
    "\n",
    "Now we have everything necessary to start using crunch-shake to parse the text. First we need to get the speaking characers in the text. (I get it directly from the play, you might be wondering why not just use the gender file? Well I actually used get_speaking_characters to generate the gender file.)"
   ]
  },
  {
   "cell_type": "code",
   "execution_count": 11,
   "metadata": {
    "collapsed": false
   },
   "outputs": [
    {
     "name": "stdout",
     "output_type": "stream",
     "text": [
      "{'FIRST CITIZEN', 'JULIET', 'PRINCE', 'FRIAR JOHN', 'PAGE', 'FIRST WATCHMAN', 'SECOND MUSICIAN', 'CAPULET', 'GREGORY', 'ABRAHAM', 'FIRST MUSICIAN', 'SECOND SERVANT', 'TYBALT', 'BENVOLIO', 'SECOND WATCHMAN', 'NURSE', 'APOTHECARY', 'LADY CAPULET', 'ROMEO', 'SECOND CAPULET', 'FRIAR LAURENCE', 'THIRD MUSICIAN', 'PETER', 'MUSICIAN', 'SERVANT', 'CHORUS', 'PARIS', 'LADY MONTAGUE', 'SAMPSON', 'BALTHASAR', 'THIRD WATCHMAN', 'MERCUTIO', 'MONTAGUE', 'FIRST SERVANT'}\n"
     ]
    }
   ],
   "source": [
    "from parse import get_speaking_characters\n",
    "\n",
    "speaking = get_speaking_characters(romeo_juliet_raw, matcher.character)\n",
    "print(speaking)"
   ]
  },
  {
   "cell_type": "code",
   "execution_count": 13,
   "metadata": {
    "collapsed": false
   },
   "outputs": [
    {
     "name": "stdout",
     "output_type": "stream",
     "text": [
      "Act(act=1)\n",
      "Scene(scene=1)\n",
      "Enter SAMPSON and GREGORY, of the house of Capulet, armed with swords and bucklers : [\"Enter - ['SAMPSON', 'GREGORY', 'CAPULET']\"] : None\n",
      "SAMPSON\n",
      "1.1 :Gregory, o' my word, we'll not carry coals. : None\n",
      "GREGORY\n",
      "1.1 :No, for then we should be colliers. : None\n",
      "SAMPSON\n",
      "1.1 :I mean, an we be in choler, we'll draw. : None\n",
      "GREGORY\n",
      "1.1 :Ay, while you live, draw your neck out o' the collar. : None\n",
      "SAMPSON\n",
      "1.1 :I strike quickly, being moved. : None\n",
      "GREGORY\n",
      "1.1 :But thou art not quickly moved to strike. : None\n",
      "SAMPSON\n",
      "1.1 :A dog of the house of Montague moves me. : None\n",
      "GREGORY\n",
      "1.1 :To move is to stir; and to be valiant is to stand: : None\n",
      "1.1 :therefore, if thou art moved, thou runn'st away. : None\n"
     ]
    }
   ],
   "source": [
    "from parse import parse_raw_text\n",
    "\n",
    "play_lines = parse_raw_text(romeo_juliet_raw, speaking, matcher)\n",
    "for line in play_lines[:20]:\n",
    "    print(line)"
   ]
  },
  {
   "cell_type": "code",
   "execution_count": null,
   "metadata": {
    "collapsed": true
   },
   "outputs": [],
   "source": [
    "Processing"
   ]
  }
 ],
 "metadata": {
  "kernelspec": {
   "display_name": "Python 3",
   "language": "python",
   "name": "python3"
  },
  "language_info": {
   "codemirror_mode": {
    "name": "ipython",
    "version": 3
   },
   "file_extension": ".py",
   "mimetype": "text/x-python",
   "name": "python",
   "nbconvert_exporter": "python",
   "pygments_lexer": "ipython3",
   "version": "3.5.1"
  }
 },
 "nbformat": 4,
 "nbformat_minor": 1
}
